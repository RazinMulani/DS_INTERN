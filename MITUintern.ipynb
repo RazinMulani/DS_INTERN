{
 "cells": [
  {
   "cell_type": "code",
   "execution_count": 1,
   "id": "024afd61",
   "metadata": {},
   "outputs": [],
   "source": [
    "#Name:Mohamad Rajin Rafik Mulani\n",
    "#Class:TE\n",
    "#Div:B\n",
    "#Roll No:04\n",
    "#College:Keystone School of Engineering"
   ]
  },
  {
   "cell_type": "markdown",
   "id": "11e03853",
   "metadata": {},
   "source": [
    "#### Description:-\n",
    "Wine reviews dataset containing information about various wines and their ratings.\n",
    "\n",
    "#### Sample Questions:-\n",
    "    ● Print the names of all wines with a rating above 90.\n",
    "    ● Sort and print the names of wines from Italy.\n",
    "    ● How many wines are there from France?\n",
    "    ● Print the variety and price of wines (non-null values) with a rating above\n",
    "      95.\n",
    "    ● How many wines are there with a price above $1000?\n",
    "● How many wines are there with a price less than $10 and a rating above\n",
    "      85?\n",
    "    ● Print the names of wines with the word \"Reserve\" in their title.\n",
    "    ● Print the names of wines with the lowest and highest prices.\n",
    "    ● Find information about wines with the highest and lowest ratings.\n",
    "    ● Plot the distribution of wine ratings."
   ]
  },
  {
   "cell_type": "code",
   "execution_count": 2,
   "id": "b4babd93",
   "metadata": {},
   "outputs": [],
   "source": [
    "import pandas as pd\n",
    "import numpy as np\n",
    "import matplotlib.pyplot as plt\n",
    "import seaborn as sns\n",
    "import warnings\n",
    "warnings.filterwarnings('ignore')"
   ]
  },
  {
   "cell_type": "code",
   "execution_count": 22,
   "id": "9bf4adad",
   "metadata": {},
   "outputs": [
    {
     "data": {
      "text/html": [
       "<div>\n",
       "<style scoped>\n",
       "    .dataframe tbody tr th:only-of-type {\n",
       "        vertical-align: middle;\n",
       "    }\n",
       "\n",
       "    .dataframe tbody tr th {\n",
       "        vertical-align: top;\n",
       "    }\n",
       "\n",
       "    .dataframe thead th {\n",
       "        text-align: right;\n",
       "    }\n",
       "</style>\n",
       "<table border=\"1\" class=\"dataframe\">\n",
       "  <thead>\n",
       "    <tr style=\"text-align: right;\">\n",
       "      <th></th>\n",
       "      <th>Unnamed: 0</th>\n",
       "      <th>country</th>\n",
       "      <th>description</th>\n",
       "      <th>designation</th>\n",
       "      <th>points</th>\n",
       "      <th>price</th>\n",
       "      <th>province</th>\n",
       "      <th>region_1</th>\n",
       "      <th>region_2</th>\n",
       "      <th>taster_name</th>\n",
       "      <th>taster_twitter_handle</th>\n",
       "      <th>title</th>\n",
       "      <th>variety</th>\n",
       "      <th>winery</th>\n",
       "    </tr>\n",
       "  </thead>\n",
       "  <tbody>\n",
       "    <tr>\n",
       "      <th>0</th>\n",
       "      <td>0</td>\n",
       "      <td>Italy</td>\n",
       "      <td>Aromas include tropical fruit, broom, brimston...</td>\n",
       "      <td>Vulkà Bianco</td>\n",
       "      <td>87</td>\n",
       "      <td>NaN</td>\n",
       "      <td>Sicily &amp; Sardinia</td>\n",
       "      <td>Etna</td>\n",
       "      <td>NaN</td>\n",
       "      <td>Kerin O’Keefe</td>\n",
       "      <td>@kerinokeefe</td>\n",
       "      <td>Nicosia 2013 Vulkà Bianco  (Etna)</td>\n",
       "      <td>White Blend</td>\n",
       "      <td>Nicosia</td>\n",
       "    </tr>\n",
       "    <tr>\n",
       "      <th>1</th>\n",
       "      <td>1</td>\n",
       "      <td>Portugal</td>\n",
       "      <td>This is ripe and fruity, a wine that is smooth...</td>\n",
       "      <td>Avidagos</td>\n",
       "      <td>87</td>\n",
       "      <td>15.0</td>\n",
       "      <td>Douro</td>\n",
       "      <td>NaN</td>\n",
       "      <td>NaN</td>\n",
       "      <td>Roger Voss</td>\n",
       "      <td>@vossroger</td>\n",
       "      <td>Quinta dos Avidagos 2011 Avidagos Red (Douro)</td>\n",
       "      <td>Portuguese Red</td>\n",
       "      <td>Quinta dos Avidagos</td>\n",
       "    </tr>\n",
       "    <tr>\n",
       "      <th>2</th>\n",
       "      <td>2</td>\n",
       "      <td>US</td>\n",
       "      <td>Tart and snappy, the flavors of lime flesh and...</td>\n",
       "      <td>NaN</td>\n",
       "      <td>87</td>\n",
       "      <td>14.0</td>\n",
       "      <td>Oregon</td>\n",
       "      <td>Willamette Valley</td>\n",
       "      <td>Willamette Valley</td>\n",
       "      <td>Paul Gregutt</td>\n",
       "      <td>@paulgwine</td>\n",
       "      <td>Rainstorm 2013 Pinot Gris (Willamette Valley)</td>\n",
       "      <td>Pinot Gris</td>\n",
       "      <td>Rainstorm</td>\n",
       "    </tr>\n",
       "    <tr>\n",
       "      <th>3</th>\n",
       "      <td>3</td>\n",
       "      <td>US</td>\n",
       "      <td>Pineapple rind, lemon pith and orange blossom ...</td>\n",
       "      <td>Reserve Late Harvest</td>\n",
       "      <td>87</td>\n",
       "      <td>13.0</td>\n",
       "      <td>Michigan</td>\n",
       "      <td>Lake Michigan Shore</td>\n",
       "      <td>NaN</td>\n",
       "      <td>Alexander Peartree</td>\n",
       "      <td>NaN</td>\n",
       "      <td>St. Julian 2013 Reserve Late Harvest Riesling ...</td>\n",
       "      <td>Riesling</td>\n",
       "      <td>St. Julian</td>\n",
       "    </tr>\n",
       "    <tr>\n",
       "      <th>4</th>\n",
       "      <td>4</td>\n",
       "      <td>US</td>\n",
       "      <td>Much like the regular bottling from 2012, this...</td>\n",
       "      <td>Vintner's Reserve Wild Child Block</td>\n",
       "      <td>87</td>\n",
       "      <td>65.0</td>\n",
       "      <td>Oregon</td>\n",
       "      <td>Willamette Valley</td>\n",
       "      <td>Willamette Valley</td>\n",
       "      <td>Paul Gregutt</td>\n",
       "      <td>@paulgwine</td>\n",
       "      <td>Sweet Cheeks 2012 Vintner's Reserve Wild Child...</td>\n",
       "      <td>Pinot Noir</td>\n",
       "      <td>Sweet Cheeks</td>\n",
       "    </tr>\n",
       "    <tr>\n",
       "      <th>...</th>\n",
       "      <td>...</td>\n",
       "      <td>...</td>\n",
       "      <td>...</td>\n",
       "      <td>...</td>\n",
       "      <td>...</td>\n",
       "      <td>...</td>\n",
       "      <td>...</td>\n",
       "      <td>...</td>\n",
       "      <td>...</td>\n",
       "      <td>...</td>\n",
       "      <td>...</td>\n",
       "      <td>...</td>\n",
       "      <td>...</td>\n",
       "      <td>...</td>\n",
       "    </tr>\n",
       "    <tr>\n",
       "      <th>129966</th>\n",
       "      <td>129966</td>\n",
       "      <td>Germany</td>\n",
       "      <td>Notes of honeysuckle and cantaloupe sweeten th...</td>\n",
       "      <td>Brauneberger Juffer-Sonnenuhr Spätlese</td>\n",
       "      <td>90</td>\n",
       "      <td>28.0</td>\n",
       "      <td>Mosel</td>\n",
       "      <td>NaN</td>\n",
       "      <td>NaN</td>\n",
       "      <td>Anna Lee C. Iijima</td>\n",
       "      <td>NaN</td>\n",
       "      <td>Dr. H. Thanisch (Erben Müller-Burggraef) 2013 ...</td>\n",
       "      <td>Riesling</td>\n",
       "      <td>Dr. H. Thanisch (Erben Müller-Burggraef)</td>\n",
       "    </tr>\n",
       "    <tr>\n",
       "      <th>129967</th>\n",
       "      <td>129967</td>\n",
       "      <td>US</td>\n",
       "      <td>Citation is given as much as a decade of bottl...</td>\n",
       "      <td>NaN</td>\n",
       "      <td>90</td>\n",
       "      <td>75.0</td>\n",
       "      <td>Oregon</td>\n",
       "      <td>Oregon</td>\n",
       "      <td>Oregon Other</td>\n",
       "      <td>Paul Gregutt</td>\n",
       "      <td>@paulgwine</td>\n",
       "      <td>Citation 2004 Pinot Noir (Oregon)</td>\n",
       "      <td>Pinot Noir</td>\n",
       "      <td>Citation</td>\n",
       "    </tr>\n",
       "    <tr>\n",
       "      <th>129968</th>\n",
       "      <td>129968</td>\n",
       "      <td>France</td>\n",
       "      <td>Well-drained gravel soil gives this wine its c...</td>\n",
       "      <td>Kritt</td>\n",
       "      <td>90</td>\n",
       "      <td>30.0</td>\n",
       "      <td>Alsace</td>\n",
       "      <td>Alsace</td>\n",
       "      <td>NaN</td>\n",
       "      <td>Roger Voss</td>\n",
       "      <td>@vossroger</td>\n",
       "      <td>Domaine Gresser 2013 Kritt Gewurztraminer (Als...</td>\n",
       "      <td>Gewürztraminer</td>\n",
       "      <td>Domaine Gresser</td>\n",
       "    </tr>\n",
       "    <tr>\n",
       "      <th>129969</th>\n",
       "      <td>129969</td>\n",
       "      <td>France</td>\n",
       "      <td>A dry style of Pinot Gris, this is crisp with ...</td>\n",
       "      <td>NaN</td>\n",
       "      <td>90</td>\n",
       "      <td>32.0</td>\n",
       "      <td>Alsace</td>\n",
       "      <td>Alsace</td>\n",
       "      <td>NaN</td>\n",
       "      <td>Roger Voss</td>\n",
       "      <td>@vossroger</td>\n",
       "      <td>Domaine Marcel Deiss 2012 Pinot Gris (Alsace)</td>\n",
       "      <td>Pinot Gris</td>\n",
       "      <td>Domaine Marcel Deiss</td>\n",
       "    </tr>\n",
       "    <tr>\n",
       "      <th>129970</th>\n",
       "      <td>129970</td>\n",
       "      <td>France</td>\n",
       "      <td>Big, rich and off-dry, this is powered by inte...</td>\n",
       "      <td>Lieu-dit Harth Cuvée Caroline</td>\n",
       "      <td>90</td>\n",
       "      <td>21.0</td>\n",
       "      <td>Alsace</td>\n",
       "      <td>Alsace</td>\n",
       "      <td>NaN</td>\n",
       "      <td>Roger Voss</td>\n",
       "      <td>@vossroger</td>\n",
       "      <td>Domaine Schoffit 2012 Lieu-dit Harth Cuvée Car...</td>\n",
       "      <td>Gewürztraminer</td>\n",
       "      <td>Domaine Schoffit</td>\n",
       "    </tr>\n",
       "  </tbody>\n",
       "</table>\n",
       "<p>129971 rows × 14 columns</p>\n",
       "</div>"
      ],
      "text/plain": [
       "        Unnamed: 0   country  \\\n",
       "0                0     Italy   \n",
       "1                1  Portugal   \n",
       "2                2        US   \n",
       "3                3        US   \n",
       "4                4        US   \n",
       "...            ...       ...   \n",
       "129966      129966   Germany   \n",
       "129967      129967        US   \n",
       "129968      129968    France   \n",
       "129969      129969    France   \n",
       "129970      129970    France   \n",
       "\n",
       "                                              description  \\\n",
       "0       Aromas include tropical fruit, broom, brimston...   \n",
       "1       This is ripe and fruity, a wine that is smooth...   \n",
       "2       Tart and snappy, the flavors of lime flesh and...   \n",
       "3       Pineapple rind, lemon pith and orange blossom ...   \n",
       "4       Much like the regular bottling from 2012, this...   \n",
       "...                                                   ...   \n",
       "129966  Notes of honeysuckle and cantaloupe sweeten th...   \n",
       "129967  Citation is given as much as a decade of bottl...   \n",
       "129968  Well-drained gravel soil gives this wine its c...   \n",
       "129969  A dry style of Pinot Gris, this is crisp with ...   \n",
       "129970  Big, rich and off-dry, this is powered by inte...   \n",
       "\n",
       "                                   designation  points  price  \\\n",
       "0                                 Vulkà Bianco      87    NaN   \n",
       "1                                     Avidagos      87   15.0   \n",
       "2                                          NaN      87   14.0   \n",
       "3                         Reserve Late Harvest      87   13.0   \n",
       "4           Vintner's Reserve Wild Child Block      87   65.0   \n",
       "...                                        ...     ...    ...   \n",
       "129966  Brauneberger Juffer-Sonnenuhr Spätlese      90   28.0   \n",
       "129967                                     NaN      90   75.0   \n",
       "129968                                   Kritt      90   30.0   \n",
       "129969                                     NaN      90   32.0   \n",
       "129970           Lieu-dit Harth Cuvée Caroline      90   21.0   \n",
       "\n",
       "                 province             region_1           region_2  \\\n",
       "0       Sicily & Sardinia                 Etna                NaN   \n",
       "1                   Douro                  NaN                NaN   \n",
       "2                  Oregon    Willamette Valley  Willamette Valley   \n",
       "3                Michigan  Lake Michigan Shore                NaN   \n",
       "4                  Oregon    Willamette Valley  Willamette Valley   \n",
       "...                   ...                  ...                ...   \n",
       "129966              Mosel                  NaN                NaN   \n",
       "129967             Oregon               Oregon       Oregon Other   \n",
       "129968             Alsace               Alsace                NaN   \n",
       "129969             Alsace               Alsace                NaN   \n",
       "129970             Alsace               Alsace                NaN   \n",
       "\n",
       "               taster_name taster_twitter_handle  \\\n",
       "0            Kerin O’Keefe          @kerinokeefe   \n",
       "1               Roger Voss            @vossroger   \n",
       "2             Paul Gregutt           @paulgwine    \n",
       "3       Alexander Peartree                   NaN   \n",
       "4             Paul Gregutt           @paulgwine    \n",
       "...                    ...                   ...   \n",
       "129966  Anna Lee C. Iijima                   NaN   \n",
       "129967        Paul Gregutt           @paulgwine    \n",
       "129968          Roger Voss            @vossroger   \n",
       "129969          Roger Voss            @vossroger   \n",
       "129970          Roger Voss            @vossroger   \n",
       "\n",
       "                                                    title         variety  \\\n",
       "0                       Nicosia 2013 Vulkà Bianco  (Etna)     White Blend   \n",
       "1           Quinta dos Avidagos 2011 Avidagos Red (Douro)  Portuguese Red   \n",
       "2           Rainstorm 2013 Pinot Gris (Willamette Valley)      Pinot Gris   \n",
       "3       St. Julian 2013 Reserve Late Harvest Riesling ...        Riesling   \n",
       "4       Sweet Cheeks 2012 Vintner's Reserve Wild Child...      Pinot Noir   \n",
       "...                                                   ...             ...   \n",
       "129966  Dr. H. Thanisch (Erben Müller-Burggraef) 2013 ...        Riesling   \n",
       "129967                  Citation 2004 Pinot Noir (Oregon)      Pinot Noir   \n",
       "129968  Domaine Gresser 2013 Kritt Gewurztraminer (Als...  Gewürztraminer   \n",
       "129969      Domaine Marcel Deiss 2012 Pinot Gris (Alsace)      Pinot Gris   \n",
       "129970  Domaine Schoffit 2012 Lieu-dit Harth Cuvée Car...  Gewürztraminer   \n",
       "\n",
       "                                          winery  \n",
       "0                                        Nicosia  \n",
       "1                            Quinta dos Avidagos  \n",
       "2                                      Rainstorm  \n",
       "3                                     St. Julian  \n",
       "4                                   Sweet Cheeks  \n",
       "...                                          ...  \n",
       "129966  Dr. H. Thanisch (Erben Müller-Burggraef)  \n",
       "129967                                  Citation  \n",
       "129968                           Domaine Gresser  \n",
       "129969                      Domaine Marcel Deiss  \n",
       "129970                          Domaine Schoffit  \n",
       "\n",
       "[129971 rows x 14 columns]"
      ]
     },
     "execution_count": 22,
     "metadata": {},
     "output_type": "execute_result"
    }
   ],
   "source": [
    "wine_data =pd.read_csv('winemag-data-130k-v2.csv')\n",
    "wine_data "
   ]
  },
  {
   "cell_type": "markdown",
   "id": "75f2b88c",
   "metadata": {},
   "source": [
    "## Print names of wines with a rating above 90"
   ]
  },
  {
   "cell_type": "code",
   "execution_count": 25,
   "id": "2611f6c7",
   "metadata": {},
   "outputs": [
    {
     "name": "stdout",
     "output_type": "stream",
     "text": [
      "Wines with a rating above 90:\n",
      "119       Dopff & Irion 2004 Schoenenbourg Grand Cru Ven...\n",
      "120              Ceretto 2003 Bricco Rocche Prapó  (Barolo)\n",
      "121       Matrix 2007 Stuhlmuller Vineyard Chardonnay (A...\n",
      "122       Mauritson 2007 Rockpile Cemetary Vineyard Zinf...\n",
      "123       Henry's Drive Vignerons 2006 Parson's Flat Shi...\n",
      "                                ...                        \n",
      "129936     Bouchard Père & Fils 2005 Premier Cru  (Pommard)\n",
      "129937    Bründlmayer 2007 Langenloiser Berg-Vogelsang G...\n",
      "129938          Chakana 2006 Reserve Malbec (Luján de Cuyo)\n",
      "129939    Schloss Halbturn 2004 Grand Vin White (Burgenl...\n",
      "129940    Standish 2006 Watson Vineyard Chardonnay (Mend...\n",
      "Name: title, Length: 33635, dtype: object\n"
     ]
    }
   ],
   "source": [
    "high_rated_wines = wine_data[wine_data['points'] > 90]['title']\n",
    "print(\"Wines with a rating above 90:\")\n",
    "print(high_rated_wines)"
   ]
  },
  {
   "cell_type": "markdown",
   "id": "5464062b",
   "metadata": {},
   "source": [
    "## Sort and print names of wines from Italy"
   ]
  },
  {
   "cell_type": "code",
   "execution_count": 26,
   "id": "a406250c",
   "metadata": {},
   "outputs": [
    {
     "name": "stdout",
     "output_type": "stream",
     "text": [
      "\n",
      "Italian wines:\n",
      "20886     460 Casina Bric 2010 Bricco delle Viole  (Barolo)\n",
      "13851                          460 Casina Bric 2011  Barolo\n",
      "29123     460 Casina Bric 2011 Bricco delle Viole  (Barolo)\n",
      "78345                                    A-Mano 2007  Soave\n",
      "56394                                    A-Mano 2007  Soave\n",
      "                                ...                        \n",
      "2661         Zymè 2006  Amarone della Valpolicella Classico\n",
      "105750           Zymè 2008  Valpolicella Classico Superiore\n",
      "108120                    Zymè 2011 Rêverie  (Valpolicella)\n",
      "68266     Ïl Macchione 2008 Riserva  (Vino Nobile di Mon...\n",
      "73112       Ïl Macchione 2009  Vino Nobile di Montepulciano\n",
      "Name: title, Length: 19540, dtype: object\n"
     ]
    }
   ],
   "source": [
    "italian_wines = wine_data[wine_data['country'] == 'Italy']['title'].sort_values()\n",
    "print(\"\\nItalian wines:\")\n",
    "print(italian_wines)"
   ]
  },
  {
   "cell_type": "markdown",
   "id": "5bdb5259",
   "metadata": {},
   "source": [
    "## How many wines are there from France?"
   ]
  },
  {
   "cell_type": "code",
   "execution_count": 27,
   "id": "7c1f6bdf",
   "metadata": {},
   "outputs": [
    {
     "name": "stdout",
     "output_type": "stream",
     "text": [
      "\n",
      "Number of wines from France: 22093\n"
     ]
    }
   ],
   "source": [
    "wines_from_france = wine_data[wine_data['country'] == 'France'].shape[0]\n",
    "print(\"\\nNumber of wines from France:\", wines_from_france)"
   ]
  },
  {
   "cell_type": "markdown",
   "id": "f5e3a0d9",
   "metadata": {},
   "source": [
    "## Print the variety and price of wines (non-null values) with a rating above 95"
   ]
  },
  {
   "cell_type": "code",
   "execution_count": 28,
   "id": "678684be",
   "metadata": {},
   "outputs": [
    {
     "name": "stdout",
     "output_type": "stream",
     "text": [
      "\n",
      "Variety and price of wines with a rating above 95:\n",
      "                   variety  price\n",
      "345                 Muscat  350.0\n",
      "346             Muscadelle  350.0\n",
      "347               Riesling  775.0\n",
      "348                 Muscat  100.0\n",
      "349        Shiraz-Viognier  225.0\n",
      "...                    ...    ...\n",
      "128267          Pinot Noir   85.0\n",
      "128268  Cabernet Sauvignon   50.0\n",
      "128269  Cabernet Sauvignon  100.0\n",
      "128270  Cabernet Sauvignon   65.0\n",
      "128271   Tempranillo Blend   82.0\n",
      "\n",
      "[805 rows x 2 columns]\n"
     ]
    }
   ],
   "source": [
    "high_rated_expensive_wines = wine_data[(wine_data['points'] > 95) & (wine_data['price'].notna())][['variety', 'price']]\n",
    "print(\"\\nVariety and price of wines with a rating above 95:\")\n",
    "print(high_rated_expensive_wines)"
   ]
  },
  {
   "cell_type": "markdown",
   "id": "ffe09ebe",
   "metadata": {},
   "source": [
    "## How many wines are there with a price above $1000?"
   ]
  },
  {
   "cell_type": "code",
   "execution_count": 29,
   "id": "1e1b3724",
   "metadata": {},
   "outputs": [
    {
     "name": "stdout",
     "output_type": "stream",
     "text": [
      "\n",
      "Number of wines with a price above $1000: 14\n"
     ]
    }
   ],
   "source": [
    "wines_above_1000 = wine_data[wine_data['price'] > 1000].shape[0]\n",
    "print(\"\\nNumber of wines with a price above $1000:\", wines_above_1000)"
   ]
  },
  {
   "cell_type": "markdown",
   "id": "058b68ae",
   "metadata": {},
   "source": [
    "## How many wines are there with a price less than $10 and a rating above 85?"
   ]
  },
  {
   "cell_type": "code",
   "execution_count": 30,
   "id": "a8d54b49",
   "metadata": {},
   "outputs": [
    {
     "name": "stdout",
     "output_type": "stream",
     "text": [
      "\n",
      "Number of wines with a price less than $10 and a rating above 85: 1008\n"
     ]
    }
   ],
   "source": [
    "affordable_high_rated_wines = wine_data[(wine_data['price'] < 10) & (wine_data['points'] > 85)].shape[0]\n",
    "print(\"\\nNumber of wines with a price less than $10 and a rating above 85:\", affordable_high_rated_wines)"
   ]
  },
  {
   "cell_type": "markdown",
   "id": "eefcdfdb",
   "metadata": {},
   "source": [
    "## Print the names of wines with the word \"Reserve\" in their title."
   ]
  },
  {
   "cell_type": "code",
   "execution_count": 31,
   "id": "b0f53f14",
   "metadata": {},
   "outputs": [
    {
     "name": "stdout",
     "output_type": "stream",
     "text": [
      "\n",
      "Wines with 'Reserve' in their title:\n",
      "3         St. Julian 2013 Reserve Late Harvest Riesling ...\n",
      "4         Sweet Cheeks 2012 Vintner's Reserve Wild Child...\n",
      "58        Tres Palacios 2011 Reserve Pinot Noir (Maipo V...\n",
      "94        Gård 2014 Grand Klasse Reserve Lawrence Vineya...\n",
      "125       Le Riche 2003 Cabernet Sauvignon Reserve Caber...\n",
      "                                ...                        \n",
      "129908    DeMorgenzon 2015 Reserve Chardonnay (Stellenbo...\n",
      "129916    Winkler-Hermaden 2006 Grauburgunder Reserve Gr...\n",
      "129919    Nicholas Cole Cellars 2004 Reserve Red (Walla ...\n",
      "129938          Chakana 2006 Reserve Malbec (Luján de Cuyo)\n",
      "129944    Barkan 2011 Special Reserve Winemakers' Choice...\n",
      "Name: title, Length: 5290, dtype: object\n"
     ]
    }
   ],
   "source": [
    "reserve_wines = wine_data[wine_data['title'].str.contains('Reserve', case=False)]['title']\n",
    "print(\"\\nWines with 'Reserve' in their title:\")\n",
    "print(reserve_wines)"
   ]
  },
  {
   "cell_type": "markdown",
   "id": "f48cad68",
   "metadata": {},
   "source": [
    "## Print the names of wines with the lowest and highest prices."
   ]
  },
  {
   "cell_type": "code",
   "execution_count": 32,
   "id": "e88797d3",
   "metadata": {},
   "outputs": [
    {
     "name": "stdout",
     "output_type": "stream",
     "text": [
      "\n",
      "Wine with the lowest price: Felix Solis 2013 Flirty Bird Syrah (Vino de la Tierra de Castilla)\n",
      "Wine with the highest price: Château les Ormes Sorbet 2013  Médoc\n"
     ]
    }
   ],
   "source": [
    "lowest_price_wine = wine_data.loc[wine_data['price'].idxmin()]['title']\n",
    "highest_price_wine = wine_data.loc[wine_data['price'].idxmax()]['title']\n",
    "print(\"\\nWine with the lowest price:\", lowest_price_wine)\n",
    "print(\"Wine with the highest price:\", highest_price_wine)"
   ]
  },
  {
   "cell_type": "markdown",
   "id": "5a83ddc7",
   "metadata": {},
   "source": [
    "## Find information about wines with the highest and lowest ratings"
   ]
  },
  {
   "cell_type": "code",
   "execution_count": 34,
   "id": "127564c8",
   "metadata": {},
   "outputs": [
    {
     "name": "stdout",
     "output_type": "stream",
     "text": [
      "\n",
      "Information about wine with the highest rating:\n",
      "Unnamed: 0                                                             345\n",
      "country                                                          Australia\n",
      "description              This wine contains some material over 100 year...\n",
      "designation                                                           Rare\n",
      "points                                                                 100\n",
      "price                                                                350.0\n",
      "province                                                          Victoria\n",
      "region_1                                                        Rutherglen\n",
      "region_2                                                               NaN\n",
      "taster_name                                                 Joe Czerwinski\n",
      "taster_twitter_handle                                               @JoeCz\n",
      "title                    Chambers Rosewood Vineyards NV Rare Muscat (Ru...\n",
      "variety                                                             Muscat\n",
      "winery                                         Chambers Rosewood Vineyards\n",
      "Name: 345, dtype: object\n",
      "\n",
      "Information about wine with the lowest rating:\n",
      "Unnamed: 0                                                             344\n",
      "country                                                              Chile\n",
      "description              Aromas of pumpkin, squash and corn chips are s...\n",
      "designation                                                   Gran Reserva\n",
      "points                                                                  80\n",
      "price                                                                 19.0\n",
      "province                                                      Leyda Valley\n",
      "region_1                                                               NaN\n",
      "region_2                                                               NaN\n",
      "taster_name                                              Michael Schachner\n",
      "taster_twitter_handle                                          @wineschach\n",
      "title                    Viña Tarapacá 2015 Gran Reserva Chardonnay (Le...\n",
      "variety                                                         Chardonnay\n",
      "winery                                                       Viña Tarapacá\n",
      "Name: 344, dtype: object\n"
     ]
    }
   ],
   "source": [
    "highest_rated_wine = wine_data.loc[wine_data['points'].idxmax()]\n",
    "lowest_rated_wine = wine_data.loc[wine_data['points'].idxmin()]\n",
    "print(\"\\nInformation about wine with the highest rating:\")\n",
    "print(highest_rated_wine)\n",
    "print(\"\\nInformation about wine with the lowest rating:\")\n",
    "print(lowest_rated_wine)"
   ]
  },
  {
   "cell_type": "markdown",
   "id": "dfc6d78e",
   "metadata": {},
   "source": [
    "## Plot the distribution of wine ratings."
   ]
  },
  {
   "cell_type": "code",
   "execution_count": 40,
   "id": "7c26e530",
   "metadata": {},
   "outputs": [
    {
     "data": {
      "image/png": "[encoded data removed]",
      "text/plain": [
       "<Figure size 640x480 with 1 Axes>"
      ]
     },
     "metadata": {},
     "output_type": "display_data"
    }
   ],
   "source": [
    "plt.hist(wine_data['points'], bins=20, color='skyblue', edgecolor='black')\n",
    "plt.title('Distribution of Wine Ratings')\n",
    "plt.xlabel('points')\n",
    "plt.ylabel('Frequency')\n",
    "plt.grid(True)\n",
    "plt.show()"
   ]
  }
 ],
 "metadata": {
  "kernelspec": {
   "display_name": "Python 3 (ipykernel)",
   "language": "python",
   "name": "python3"
  },
  "language_info": {
   "codemirror_mode": {
    "name": "ipython",
    "version": 3
   },
   "file_extension": ".py",
   "mimetype": "text/x-python",
   "name": "python",
   "nbconvert_exporter": "python",
   "pygments_lexer": "ipython3",
   "version": "3.11.5"
  }
 },
 "nbformat": 4,
 "nbformat_minor": 5
}
